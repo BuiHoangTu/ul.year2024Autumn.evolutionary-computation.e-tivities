{
 "cells": [
  {
   "cell_type": "markdown",
   "metadata": {},
   "source": [
    "# Compare GP and GE"
   ]
  },
  {
   "cell_type": "code",
   "execution_count": 1,
   "metadata": {},
   "outputs": [],
   "source": [
    "from elitism import eaSimpleWithElitism\n",
    "import matplotlib.pyplot as plt\n",
    "import random\n",
    "\n",
    "random.seed(42)"
   ]
  },
  {
   "cell_type": "markdown",
   "metadata": {},
   "source": [
    "## Prepare GE"
   ]
  },
  {
   "cell_type": "markdown",
   "metadata": {},
   "source": [
    "### House keeping"
   ]
  },
  {
   "cell_type": "code",
   "execution_count": 2,
   "metadata": {},
   "outputs": [
    {
     "name": "stdout",
     "output_type": "stream",
     "text": [
      "/home/tu/code-py/evolutionary-computation/grape\n"
     ]
    }
   ],
   "source": [
    "# change directory to grape \n",
    "%cd ../grape"
   ]
  },
  {
   "cell_type": "code",
   "execution_count": null,
   "metadata": {},
   "outputs": [],
   "source": [
    "from algorithms import ge_eaSimpleWithElitism"
   ]
  },
  {
   "cell_type": "code",
   "execution_count": 4,
   "metadata": {},
   "outputs": [],
   "source": [
    "# Suppressing Warnings:\n",
    "import warnings\n",
    "\n",
    "warnings.filterwarnings(\"ignore\")"
   ]
  },
  {
   "cell_type": "code",
   "execution_count": 5,
   "metadata": {},
   "outputs": [],
   "source": [
    "# Set parameters\n",
    "\n",
    "POPULATION_SIZE = 500\n",
    "MAX_GENERATIONS = 50\n",
    "P_CROSSOVER = 0.8\n",
    "P_MUTATION = 0.01\n",
    "HALLOFFAME_SIZE = max(round(0.01*POPULATION_SIZE), 1) #it should be at least 1\n",
    "ELITE_SIZE = min(round(0.01*POPULATION_SIZE), HALLOFFAME_SIZE)\n",
    "\n",
    "CODON_CONSUMPTION = \"lazy\"\n",
    "GENOME_REPRESENTATION = \"list\"\n",
    "MAX_GENOME_LENGTH = None\n",
    "\n",
    "MAX_INIT_TREE_DEPTH = 13\n",
    "MIN_INIT_TREE_DEPTH = 3\n",
    "MAX_TREE_DEPTH = 35\n",
    "MAX_WRAPS = 0\n",
    "CODON_SIZE = 255\n",
    "\n",
    "REPORT_ITEMS = [\n",
    "    \"gen\",\n",
    "    \"invalid\",\n",
    "    \"avg\",\n",
    "    \"std\",\n",
    "    \"min\",\n",
    "    \"max\",\n",
    "    \"best_ind_length\",\n",
    "    \"avg_length\",\n",
    "    \"best_ind_nodes\",\n",
    "    \"avg_nodes\",\n",
    "    \"avg_depth\",\n",
    "    \"avg_used_codons\",\n",
    "    \"best_ind_used_codons\",\n",
    "    \"selection_time\",\n",
    "    \"generation_time\",\n",
    "]"
   ]
  },
  {
   "cell_type": "code",
   "execution_count": 6,
   "metadata": {},
   "outputs": [],
   "source": [
    "# random seed\n",
    "import random\n",
    "\n",
    "\n",
    "RANDOM_SEED = 42\n",
    "random.seed(RANDOM_SEED)"
   ]
  },
  {
   "cell_type": "markdown",
   "metadata": {},
   "source": [
    "### Data"
   ]
  },
  {
   "cell_type": "code",
   "execution_count": 7,
   "metadata": {},
   "outputs": [
    {
     "data": {
      "text/html": [
       "<div>\n",
       "<style scoped>\n",
       "    .dataframe tbody tr th:only-of-type {\n",
       "        vertical-align: middle;\n",
       "    }\n",
       "\n",
       "    .dataframe tbody tr th {\n",
       "        vertical-align: top;\n",
       "    }\n",
       "\n",
       "    .dataframe thead th {\n",
       "        text-align: right;\n",
       "    }\n",
       "</style>\n",
       "<table border=\"1\" class=\"dataframe\">\n",
       "  <thead>\n",
       "    <tr style=\"text-align: right;\">\n",
       "      <th></th>\n",
       "      <th>d0</th>\n",
       "      <th>d1</th>\n",
       "      <th>d2</th>\n",
       "      <th>d3</th>\n",
       "      <th>output</th>\n",
       "    </tr>\n",
       "  </thead>\n",
       "  <tbody>\n",
       "    <tr>\n",
       "      <th>0</th>\n",
       "      <td>0</td>\n",
       "      <td>0</td>\n",
       "      <td>0</td>\n",
       "      <td>0</td>\n",
       "      <td>1</td>\n",
       "    </tr>\n",
       "    <tr>\n",
       "      <th>1</th>\n",
       "      <td>0</td>\n",
       "      <td>0</td>\n",
       "      <td>0</td>\n",
       "      <td>1</td>\n",
       "      <td>0</td>\n",
       "    </tr>\n",
       "    <tr>\n",
       "      <th>2</th>\n",
       "      <td>0</td>\n",
       "      <td>0</td>\n",
       "      <td>1</td>\n",
       "      <td>0</td>\n",
       "      <td>0</td>\n",
       "    </tr>\n",
       "    <tr>\n",
       "      <th>3</th>\n",
       "      <td>0</td>\n",
       "      <td>0</td>\n",
       "      <td>1</td>\n",
       "      <td>1</td>\n",
       "      <td>1</td>\n",
       "    </tr>\n",
       "    <tr>\n",
       "      <th>4</th>\n",
       "      <td>0</td>\n",
       "      <td>1</td>\n",
       "      <td>0</td>\n",
       "      <td>0</td>\n",
       "      <td>0</td>\n",
       "    </tr>\n",
       "    <tr>\n",
       "      <th>5</th>\n",
       "      <td>0</td>\n",
       "      <td>1</td>\n",
       "      <td>0</td>\n",
       "      <td>1</td>\n",
       "      <td>1</td>\n",
       "    </tr>\n",
       "    <tr>\n",
       "      <th>6</th>\n",
       "      <td>0</td>\n",
       "      <td>1</td>\n",
       "      <td>1</td>\n",
       "      <td>0</td>\n",
       "      <td>1</td>\n",
       "    </tr>\n",
       "    <tr>\n",
       "      <th>7</th>\n",
       "      <td>0</td>\n",
       "      <td>1</td>\n",
       "      <td>1</td>\n",
       "      <td>1</td>\n",
       "      <td>0</td>\n",
       "    </tr>\n",
       "    <tr>\n",
       "      <th>8</th>\n",
       "      <td>1</td>\n",
       "      <td>0</td>\n",
       "      <td>0</td>\n",
       "      <td>0</td>\n",
       "      <td>0</td>\n",
       "    </tr>\n",
       "    <tr>\n",
       "      <th>9</th>\n",
       "      <td>1</td>\n",
       "      <td>0</td>\n",
       "      <td>0</td>\n",
       "      <td>1</td>\n",
       "      <td>1</td>\n",
       "    </tr>\n",
       "    <tr>\n",
       "      <th>10</th>\n",
       "      <td>1</td>\n",
       "      <td>0</td>\n",
       "      <td>1</td>\n",
       "      <td>0</td>\n",
       "      <td>1</td>\n",
       "    </tr>\n",
       "    <tr>\n",
       "      <th>11</th>\n",
       "      <td>1</td>\n",
       "      <td>0</td>\n",
       "      <td>1</td>\n",
       "      <td>1</td>\n",
       "      <td>0</td>\n",
       "    </tr>\n",
       "    <tr>\n",
       "      <th>12</th>\n",
       "      <td>1</td>\n",
       "      <td>1</td>\n",
       "      <td>0</td>\n",
       "      <td>0</td>\n",
       "      <td>1</td>\n",
       "    </tr>\n",
       "    <tr>\n",
       "      <th>13</th>\n",
       "      <td>1</td>\n",
       "      <td>1</td>\n",
       "      <td>0</td>\n",
       "      <td>1</td>\n",
       "      <td>0</td>\n",
       "    </tr>\n",
       "    <tr>\n",
       "      <th>14</th>\n",
       "      <td>1</td>\n",
       "      <td>1</td>\n",
       "      <td>1</td>\n",
       "      <td>0</td>\n",
       "      <td>0</td>\n",
       "    </tr>\n",
       "    <tr>\n",
       "      <th>15</th>\n",
       "      <td>1</td>\n",
       "      <td>1</td>\n",
       "      <td>1</td>\n",
       "      <td>1</td>\n",
       "      <td>1</td>\n",
       "    </tr>\n",
       "  </tbody>\n",
       "</table>\n",
       "</div>"
      ],
      "text/plain": [
       "    d0  d1  d2  d3  output\n",
       "0    0   0   0   0       1\n",
       "1    0   0   0   1       0\n",
       "2    0   0   1   0       0\n",
       "3    0   0   1   1       1\n",
       "4    0   1   0   0       0\n",
       "5    0   1   0   1       1\n",
       "6    0   1   1   0       1\n",
       "7    0   1   1   1       0\n",
       "8    1   0   0   0       0\n",
       "9    1   0   0   1       1\n",
       "10   1   0   1   0       1\n",
       "11   1   0   1   1       0\n",
       "12   1   1   0   0       1\n",
       "13   1   1   0   1       0\n",
       "14   1   1   1   0       0\n",
       "15   1   1   1   1       1"
      ]
     },
     "execution_count": 7,
     "metadata": {},
     "output_type": "execute_result"
    }
   ],
   "source": [
    "import numpy as np\n",
    "import pandas as pd\n",
    "\n",
    "\n",
    "X_train = np.zeros([4, 16], dtype=bool)\n",
    "Y_train = np.zeros([16,], dtype=bool)\n",
    "\n",
    "data = pd.read_table(r\"datasets/parity4.csv\")\n",
    "for i in range(4):\n",
    "    for ii in range(16):\n",
    "        X_train[i, ii] = data[\"d\" + str(i)].iloc[ii]\n",
    "for i in range(16):\n",
    "    Y_train[i] = data[\"output\"].iloc[i]\n",
    "\n",
    "data"
   ]
  },
  {
   "cell_type": "markdown",
   "metadata": {},
   "source": [
    "### Gramma"
   ]
  },
  {
   "cell_type": "code",
   "execution_count": 8,
   "metadata": {},
   "outputs": [
    {
     "data": {
      "text/plain": [
       "[[['<op>', 'non-terminal', 1, 0, True, 4],\n",
       "  ['<x>', 'non-terminal', 1, 1, False, 2]],\n",
       " [['and_(<e>,<e>)', 'non-terminal', 2, 0, True, 3],\n",
       "  ['or_(<e>,<e>)', 'non-terminal', 2, 1, True, 3],\n",
       "  ['nand_(<e>,<e>)', 'non-terminal', 2, 2, True, 3],\n",
       "  ['nor_(<e>,<e>)', 'non-terminal', 2, 3, True, 3]],\n",
       " [['x[0]', 'terminal', 0, 0, False, 1],\n",
       "  ['x[1]', 'terminal', 0, 1, False, 1],\n",
       "  ['x[2]', 'terminal', 0, 2, False, 1],\n",
       "  ['x[3]', 'terminal', 0, 3, False, 1]]]"
      ]
     },
     "execution_count": 8,
     "metadata": {},
     "output_type": "execute_result"
    }
   ],
   "source": [
    "import grape \n",
    "from functions import not_, and_, or_, nand_, nor_\n",
    "\n",
    "\n",
    "GRAMMAR_FILE = \"grammars/parity4.bnf\"\n",
    "\n",
    "GRAMMAR = grape.Grammar(GRAMMAR_FILE)\n",
    "GRAMMAR.production_rules"
   ]
  },
  {
   "cell_type": "markdown",
   "metadata": {},
   "source": [
    "### Fitness"
   ]
  },
  {
   "cell_type": "code",
   "execution_count": 9,
   "metadata": {},
   "outputs": [],
   "source": [
    "def geFitness(ind, points):\n",
    "    x = points[0]\n",
    "    Y = points[1]\n",
    "\n",
    "    if ind.invalid:\n",
    "        return np.nan,\n",
    "\n",
    "    try:\n",
    "        pred = eval(ind.phenotype)\n",
    "    except (FloatingPointError, ZeroDivisionError, OverflowError, MemoryError):\n",
    "        return np.nan,\n",
    "    assert np.isrealobj(pred)\n",
    "\n",
    "    nSample = len(Y)\n",
    "    compare = np.equal(Y, pred)\n",
    "    nCorrect = np.sum(compare)\n",
    "    \n",
    "    fitness = nSample - nCorrect\n",
    "    \n",
    "    return fitness,"
   ]
  },
  {
   "cell_type": "markdown",
   "metadata": {},
   "source": [
    "### Toolbox"
   ]
  },
  {
   "cell_type": "code",
   "execution_count": 10,
   "metadata": {},
   "outputs": [],
   "source": [
    "from deap import creator, base, tools\n",
    "\n",
    "import grape\n",
    "\n",
    "\n",
    "geBox = base.Toolbox()\n",
    "\n",
    "creator.create(\"FitnessMin\", base.Fitness, weights=(-1.0,))\n",
    "creator.create(\"Individual\", grape.Individual, fitness=creator.FitnessMin)\n",
    "\n",
    "geBox.register(\"populationCreator\", grape.sensible_initialisation, creator.Individual)\n",
    "geBox.register(\"evaluate\", geFitness)\n",
    "geBox.register(\"select\", tools.selTournament, tournsize=6)\n",
    "geBox.register(\"mate\", grape.crossover_onepoint)\n",
    "geBox.register(\"mutate\", grape.mutation_int_flip_per_codon)\n",
    "\n",
    "stats = tools.Statistics(lambda ind: ind.fitness.values)\n",
    "stats.register(\"avg\", np.nanmean)\n",
    "stats.register(\"std\", np.nanstd)\n",
    "stats.register(\"min\", np.nanmin)\n",
    "stats.register(\"max\", np.nanmax)"
   ]
  },
  {
   "cell_type": "markdown",
   "metadata": {},
   "source": [
    "## Prepare GP"
   ]
  },
  {
   "cell_type": "code",
   "execution_count": 11,
   "metadata": {},
   "outputs": [
    {
     "name": "stdout",
     "output_type": "stream",
     "text": [
      "/home/tu/code-py/evolutionary-computation/ES4\n"
     ]
    }
   ],
   "source": [
    "# back to normal directory\n",
    "%cd -"
   ]
  },
  {
   "cell_type": "markdown",
   "metadata": {},
   "source": [
    "### House keeping"
   ]
  },
  {
   "cell_type": "code",
   "execution_count": 12,
   "metadata": {},
   "outputs": [],
   "source": [
    "\n",
    "\n",
    "MIN_INIT_TREE_HEIGHT = MIN_INIT_TREE_DEPTH\n",
    "MAX_INIT_TREE_HEIGHT = MAX_INIT_TREE_DEPTH\n",
    "LIMIT_TREE_HEIGHT = MAX_TREE_DEPTH\n",
    "MUT_MIN_TREE_HEIGHT = 0\n",
    "MUT_MAX_TREE_HEIGHT = 2"
   ]
  },
  {
   "cell_type": "markdown",
   "metadata": {},
   "source": [
    "### Primative Set"
   ]
  },
  {
   "cell_type": "code",
   "execution_count": 13,
   "metadata": {},
   "outputs": [],
   "source": [
    "import operator\n",
    "from deap import gp\n",
    "\n",
    "\n",
    "pset = gp.PrimitiveSet(\"MAIN\", 4)\n",
    "\n",
    "def opNand(a, b):\n",
    "    return np.logical_not(np.logical_and(a, b))\n",
    "def opNor(a, b):\n",
    "    return np.logical_not(np.logical_or(a, b))\n",
    "\n",
    "# not_, and_, or_, nand_, nor_\n",
    "pset.addPrimitive(operator.not_, 1)\n",
    "pset.addPrimitive(operator.and_, 2)\n",
    "pset.addPrimitive(operator.or_, 2)\n",
    "pset.addPrimitive(opNand, 2)\n",
    "pset.addPrimitive(opNor, 2)\n",
    "\n",
    "pset.addTerminal(np.bool_(1))\n",
    "pset.addTerminal(np.bool_(0))"
   ]
  },
  {
   "cell_type": "markdown",
   "metadata": {},
   "source": [
    "### Fitness"
   ]
  },
  {
   "cell_type": "code",
   "execution_count": 14,
   "metadata": {},
   "outputs": [],
   "source": [
    "def gpFitness(ind, toolbox, points):\n",
    "    x,Y = points\n",
    "    \n",
    "    func = toolbox.compile(expr=ind)\n",
    "\n",
    "    try:\n",
    "        pred = func(*x)\n",
    "    except Exception:\n",
    "        return len(Y),\n",
    "\n",
    "    assert np.isrealobj(pred)\n",
    "\n",
    "    nSample = len(Y)\n",
    "    compare = np.equal(Y, pred)\n",
    "    nCorrect = np.sum(compare)\n",
    "\n",
    "    fitness = nSample - nCorrect\n",
    "\n",
    "    return fitness,"
   ]
  },
  {
   "cell_type": "markdown",
   "metadata": {},
   "source": [
    "### Toolbox"
   ]
  },
  {
   "cell_type": "code",
   "execution_count": 15,
   "metadata": {},
   "outputs": [],
   "source": [
    "import operator\n",
    "\n",
    "\n",
    "gpBox = base.Toolbox()\n",
    "\n",
    "creator.create(\"FitnessMin\", base.Fitness, weights=(-1.0,))\n",
    "creator.create(\"Individual\", gp.PrimitiveTree, fitness=creator.FitnessMin)\n",
    "\n",
    "gpBox.register(\"expr\", gp.genHalfAndHalf, pset=pset, min_=MIN_INIT_TREE_HEIGHT, max_=MAX_INIT_TREE_HEIGHT)\n",
    "gpBox.register(\"individualCreator\", tools.initIterate, creator.Individual, gpBox.expr)\n",
    "gpBox.register(\"populationCreator\", tools.initRepeat, list, gpBox.individualCreator)\n",
    "gpBox.register(\"compile\", gp.compile, pset=pset)\n",
    "gpBox.register(\"evaluate\", gpFitness, toolbox=gpBox, points=[X_train, Y_train])\n",
    "\n",
    "gpBox.register(\"select\", tools.selTournament, tournsize=6)\n",
    "gpBox.register(\"mate\", gp.cxOnePoint)\n",
    "gpBox.register(\"expr_mut\", gp.genGrow, min_=MUT_MIN_TREE_HEIGHT, max_=MUT_MAX_TREE_HEIGHT)\n",
    "gpBox.register(\"mutate\", gp.mutUniform, expr=gpBox.expr_mut, pset=pset)\n",
    "\n",
    "gpBox.decorate(\"mate\", gp.staticLimit(key=operator.attrgetter(\"height\"), max_value=LIMIT_TREE_HEIGHT))\n",
    "gpBox.decorate(\"mutate\", gp.staticLimit(key=operator.attrgetter(\"height\"), max_value=LIMIT_TREE_HEIGHT))"
   ]
  },
  {
   "cell_type": "markdown",
   "metadata": {},
   "source": [
    "## Compare "
   ]
  },
  {
   "cell_type": "markdown",
   "metadata": {},
   "source": [
    "### 0.8 - 0.01"
   ]
  },
  {
   "cell_type": "code",
   "execution_count": 16,
   "metadata": {},
   "outputs": [],
   "source": [
    "P_CROSSOVER = 0.8\n",
    "P_MUTATION = 0.01"
   ]
  },
  {
   "cell_type": "markdown",
   "metadata": {},
   "source": [
    "#### GP"
   ]
  },
  {
   "cell_type": "code",
   "execution_count": 17,
   "metadata": {},
   "outputs": [
    {
     "data": {
      "text/plain": [
       "<ErrorbarContainer object of 3 artists>"
      ]
     },
     "execution_count": 17,
     "metadata": {},
     "output_type": "execute_result"
    },
    {
     "data": {
      "image/png": "[encoded data removed]",
      "text/plain": [
       "<Figure size 640x480 with 1 Axes>"
      ]
     },
     "metadata": {},
     "output_type": "display_data"
    }
   ],
   "source": [
    "gpPopulation = gpBox.populationCreator(n=POPULATION_SIZE)\n",
    "gpHof = tools.HallOfFame(HALLOFFAME_SIZE)\n",
    "\n",
    "gpPopulation, logbook = eaSimpleWithElitism(\n",
    "    gpPopulation,\n",
    "    gpBox,\n",
    "    cxpb=P_CROSSOVER,\n",
    "    mutpb=P_MUTATION,\n",
    "    ngen=MAX_GENERATIONS,\n",
    "    stats=stats,\n",
    "    halloffame=gpHof,\n",
    "    verbose=False,\n",
    ")\n",
    "\n",
    "maxFitness, meanFitness, stdFitness, minFitness = logbook.select(\n",
    "    \"max\", \"avg\", \"std\", \"min\"\n",
    ")\n",
    "gen, invalid = logbook.select(\"gen\", \"invalid\")\n",
    "\n",
    "\n",
    "plt.figure()\n",
    "plt.plot(gen, minFitness, label=\"Best Fitness\", color=\"red\")\n",
    "plt.errorbar(gen, meanFitness, yerr= stdFitness, label=\"Mean Fitness\", color=\"blue\")"
   ]
  },
  {
   "cell_type": "markdown",
   "metadata": {},
   "source": [
    "#### GE"
   ]
  },
  {
   "cell_type": "code",
   "execution_count": 18,
   "metadata": {},
   "outputs": [
    {
     "name": "stdout",
     "output_type": "stream",
     "text": [
      "gen = 0 , Best fitness = (np.float64(6.0),)\n",
      "gen = 1 , Best fitness = (np.float64(6.0),) , Number of invalids = 87\n",
      "gen = 2 , Best fitness = (np.float64(6.0),) , Number of invalids = 76\n",
      "gen = 3 , Best fitness = (np.float64(5.0),) , Number of invalids = 47\n",
      "gen = 4 , Best fitness = (np.float64(5.0),) , Number of invalids = 38\n",
      "gen = 5 , Best fitness = (np.float64(5.0),) , Number of invalids = 20\n",
      "gen = 6 , Best fitness = (np.float64(4.0),) , Number of invalids = 15\n",
      "gen = 7 , Best fitness = (np.float64(4.0),) , Number of invalids = 13\n",
      "gen = 8 , Best fitness = (np.float64(4.0),) , Number of invalids = 14\n",
      "gen = 9 , Best fitness = (np.float64(3.0),) , Number of invalids = 7\n",
      "gen = 10 , Best fitness = (np.float64(3.0),) , Number of invalids = 11\n",
      "gen = 11 , Best fitness = (np.float64(3.0),) , Number of invalids = 8\n",
      "gen = 12 , Best fitness = (np.float64(3.0),) , Number of invalids = 14\n",
      "gen = 13 , Best fitness = (np.float64(3.0),) , Number of invalids = 6\n",
      "gen = 14 , Best fitness = (np.float64(3.0),) , Number of invalids = 8\n",
      "gen = 15 , Best fitness = (np.float64(3.0),) , Number of invalids = 1\n",
      "gen = 16 , Best fitness = (np.float64(3.0),) , Number of invalids = 1\n",
      "gen = 17 , Best fitness = (np.float64(1.0),) , Number of invalids = 4\n",
      "gen = 18 , Best fitness = (np.float64(1.0),) , Number of invalids = 2\n",
      "gen = 19 , Best fitness = (np.float64(1.0),) , Number of invalids = 2\n",
      "gen = 20 , Best fitness = (np.float64(1.0),) , Number of invalids = 2\n",
      "gen = 21 , Best fitness = (np.float64(1.0),) , Number of invalids = 1\n",
      "gen = 22 , Best fitness = (np.float64(1.0),) , Number of invalids = 1\n",
      "gen = 23 , Best fitness = (np.float64(1.0),) , Number of invalids = 1\n",
      "gen = 24 , Best fitness = (np.float64(1.0),) , Number of invalids = 1\n",
      "gen = 25 , Best fitness = (np.float64(1.0),) , Number of invalids = 1\n",
      "gen = 26 , Best fitness = (np.float64(1.0),) , Number of invalids = 1\n",
      "gen = 27 , Best fitness = (np.float64(1.0),) , Number of invalids = 1\n",
      "gen = 28 , Best fitness = (np.float64(1.0),) , Number of invalids = 0\n",
      "gen = 29 , Best fitness = (np.float64(1.0),) , Number of invalids = 0\n",
      "gen = 30 , Best fitness = (np.float64(1.0),) , Number of invalids = 1\n",
      "gen = 31 , Best fitness = (np.float64(1.0),) , Number of invalids = 1\n",
      "gen = 32 , Best fitness = (np.float64(1.0),) , Number of invalids = 1\n",
      "gen = 33 , Best fitness = (np.float64(1.0),) , Number of invalids = 1\n",
      "gen = 34 , Best fitness = (np.float64(1.0),) , Number of invalids = 0\n",
      "gen = 35 , Best fitness = (np.float64(1.0),) , Number of invalids = 0\n",
      "gen = 36 , Best fitness = (np.float64(1.0),) , Number of invalids = 2\n",
      "gen = 37 , Best fitness = (np.float64(1.0),) , Number of invalids = 4\n",
      "gen = 38 , Best fitness = (np.float64(1.0),) , Number of invalids = 0\n",
      "gen = 39 , Best fitness = (np.float64(1.0),) , Number of invalids = 2\n",
      "gen = 40 , Best fitness = (np.float64(1.0),) , Number of invalids = 1\n",
      "gen = 41 , Best fitness = (np.float64(1.0),) , Number of invalids = 0\n",
      "gen = 42 , Best fitness = (np.float64(1.0),) , Number of invalids = 1\n",
      "gen = 43 , Best fitness = (np.float64(1.0),) , Number of invalids = 0\n",
      "gen = 44 , Best fitness = (np.float64(1.0),) , Number of invalids = 8\n",
      "gen = 45 , Best fitness = (np.float64(1.0),) , Number of invalids = 2\n",
      "gen = 46 , Best fitness = (np.float64(1.0),) , Number of invalids = 4\n",
      "gen = 47 , Best fitness = (np.float64(1.0),) , Number of invalids = 1\n",
      "gen = 48 , Best fitness = (np.float64(1.0),) , Number of invalids = 1\n",
      "gen = 49 , Best fitness = (np.float64(1.0),) , Number of invalids = 4\n",
      "gen = 50 , Best fitness = (np.float64(1.0),) , Number of invalids = 8\n"
     ]
    },
    {
     "data": {
      "text/plain": [
       "<ErrorbarContainer object of 3 artists>"
      ]
     },
     "execution_count": 18,
     "metadata": {},
     "output_type": "execute_result"
    },
    {
     "data": {
      "image/png": "[encoded data removed]",
      "text/plain": [
       "<Figure size 640x480 with 1 Axes>"
      ]
     },
     "metadata": {},
     "output_type": "display_data"
    }
   ],
   "source": [
    "\n",
    "\n",
    "gePopulation = geBox.populationCreator(\n",
    "    pop_size=POPULATION_SIZE,\n",
    "    bnf_grammar=GRAMMAR,\n",
    "    min_init_depth=MIN_INIT_TREE_DEPTH,\n",
    "    max_init_depth=MAX_INIT_TREE_DEPTH,\n",
    "    codon_size=CODON_SIZE,\n",
    "    codon_consumption=CODON_CONSUMPTION,\n",
    "    genome_representation=GENOME_REPRESENTATION,\n",
    ")\n",
    "geHof = tools.HallOfFame(HALLOFFAME_SIZE)\n",
    "\n",
    "gePopulation, logbook = ge_eaSimpleWithElitism(\n",
    "    gePopulation,\n",
    "    toolbox=geBox,\n",
    "    cxpb=P_CROSSOVER,\n",
    "    mutpb=P_MUTATION,\n",
    "    ngen=MAX_GENERATIONS,\n",
    "    elite_size=ELITE_SIZE,\n",
    "    bnf_grammar=GRAMMAR,\n",
    "    codon_size=CODON_SIZE,\n",
    "    max_tree_depth=MAX_TREE_DEPTH,\n",
    "    max_genome_length=MAX_GENOME_LENGTH,\n",
    "    points_train=[X_train, Y_train],\n",
    "    codon_consumption=CODON_CONSUMPTION,\n",
    "    report_items=REPORT_ITEMS,\n",
    "    genome_representation=GENOME_REPRESENTATION,\n",
    "    stats=stats,\n",
    "    halloffame=geHof,\n",
    "    verbose=False,\n",
    ")\n",
    "\n",
    "maxFitness, meanFitness, stdFitness, minFitness = logbook.select(\n",
    "    \"max\", \"avg\", \"std\", \"min\"\n",
    ")\n",
    "\n",
    "plt.figure()\n",
    "plt.plot(gen, minFitness, label=\"Best Fitness\", color=\"red\")\n",
    "plt.errorbar(gen, meanFitness, yerr= stdFitness, label=\"Mean Fitness\", color=\"blue\")\n"
   ]
  },
  {
   "cell_type": "markdown",
   "metadata": {},
   "source": [
    "### 0.9 - 0.05"
   ]
  },
  {
   "cell_type": "code",
   "execution_count": 19,
   "metadata": {},
   "outputs": [],
   "source": [
    "P_CROSSOVER = 0.9\n",
    "P_MUTATION = 0.05"
   ]
  },
  {
   "cell_type": "markdown",
   "metadata": {},
   "source": [
    "#### GP"
   ]
  },
  {
   "cell_type": "code",
   "execution_count": 20,
   "metadata": {},
   "outputs": [
    {
     "data": {
      "text/plain": [
       "<ErrorbarContainer object of 3 artists>"
      ]
     },
     "execution_count": 20,
     "metadata": {},
     "output_type": "execute_result"
    },
    {
     "data": {
      "image/png": "[encoded data removed]",
      "text/plain": [
       "<Figure size 640x480 with 1 Axes>"
      ]
     },
     "metadata": {},
     "output_type": "display_data"
    }
   ],
   "source": [
    "gpPopulation = gpBox.populationCreator(n=POPULATION_SIZE)\n",
    "gpHof = tools.HallOfFame(HALLOFFAME_SIZE)\n",
    "\n",
    "gpPopulation, logbook = eaSimpleWithElitism(\n",
    "    gpPopulation,\n",
    "    gpBox,\n",
    "    cxpb=P_CROSSOVER,\n",
    "    mutpb=P_MUTATION,\n",
    "    ngen=MAX_GENERATIONS,\n",
    "    stats=stats,\n",
    "    halloffame=gpHof,\n",
    "    verbose=False,\n",
    ")\n",
    "\n",
    "maxFitness, meanFitness, stdFitness, minFitness = logbook.select(\n",
    "    \"max\", \"avg\", \"std\", \"min\"\n",
    ")\n",
    "\n",
    "plt.figure()\n",
    "plt.plot(gen, minFitness, label=\"Best Fitness\", color=\"red\")\n",
    "plt.errorbar(gen, meanFitness, yerr= stdFitness, label=\"Mean Fitness\", color=\"blue\")"
   ]
  },
  {
   "cell_type": "markdown",
   "metadata": {},
   "source": [
    "#### GE"
   ]
  },
  {
   "cell_type": "code",
   "execution_count": 21,
   "metadata": {},
   "outputs": [
    {
     "name": "stdout",
     "output_type": "stream",
     "text": [
      "gen = 0 , Best fitness = (np.float64(1.0),)\n",
      "gen = 1 , Best fitness = (np.float64(1.0),) , Number of invalids = 99\n",
      "gen = 2 , Best fitness = (np.float64(1.0),) , Number of invalids = 60\n",
      "gen = 3 , Best fitness = (np.float64(1.0),) , Number of invalids = 35\n",
      "gen = 4 , Best fitness = (np.float64(1.0),) , Number of invalids = 17\n",
      "gen = 5 , Best fitness = (np.float64(1.0),) , Number of invalids = 25\n",
      "gen = 6 , Best fitness = (np.float64(1.0),) , Number of invalids = 19\n",
      "gen = 7 , Best fitness = (np.float64(1.0),) , Number of invalids = 14\n",
      "gen = 8 , Best fitness = (np.float64(1.0),) , Number of invalids = 12\n",
      "gen = 9 , Best fitness = (np.float64(1.0),) , Number of invalids = 4\n",
      "gen = 10 , Best fitness = (np.float64(1.0),) , Number of invalids = 4\n",
      "gen = 11 , Best fitness = (np.float64(1.0),) , Number of invalids = 6\n",
      "gen = 12 , Best fitness = (np.float64(1.0),) , Number of invalids = 4\n",
      "gen = 13 , Best fitness = (np.float64(1.0),) , Number of invalids = 3\n",
      "gen = 14 , Best fitness = (np.float64(1.0),) , Number of invalids = 3\n",
      "gen = 15 , Best fitness = (np.float64(1.0),) , Number of invalids = 5\n",
      "gen = 16 , Best fitness = (np.float64(1.0),) , Number of invalids = 2\n",
      "gen = 17 , Best fitness = (np.float64(1.0),) , Number of invalids = 4\n",
      "gen = 18 , Best fitness = (np.float64(1.0),) , Number of invalids = 1\n",
      "gen = 19 , Best fitness = (np.float64(1.0),) , Number of invalids = 2\n",
      "gen = 20 , Best fitness = (np.float64(1.0),) , Number of invalids = 1\n",
      "gen = 21 , Best fitness = (np.float64(1.0),) , Number of invalids = 0\n",
      "gen = 22 , Best fitness = (np.float64(1.0),) , Number of invalids = 0\n",
      "gen = 23 , Best fitness = (np.float64(1.0),) , Number of invalids = 0\n",
      "gen = 24 , Best fitness = (np.float64(1.0),) , Number of invalids = 1\n",
      "gen = 25 , Best fitness = (np.float64(1.0),) , Number of invalids = 2\n",
      "gen = 26 , Best fitness = (np.float64(1.0),) , Number of invalids = 4\n",
      "gen = 27 , Best fitness = (np.float64(1.0),) , Number of invalids = 1\n",
      "gen = 28 , Best fitness = (np.float64(1.0),) , Number of invalids = 1\n",
      "gen = 29 , Best fitness = (np.float64(1.0),) , Number of invalids = 2\n",
      "gen = 30 , Best fitness = (np.float64(1.0),) , Number of invalids = 4\n",
      "gen = 31 , Best fitness = (np.float64(1.0),) , Number of invalids = 2\n",
      "gen = 32 , Best fitness = (np.float64(1.0),) , Number of invalids = 1\n",
      "gen = 33 , Best fitness = (np.float64(1.0),) , Number of invalids = 1\n",
      "gen = 34 , Best fitness = (np.float64(1.0),) , Number of invalids = 0\n",
      "gen = 35 , Best fitness = (np.float64(1.0),) , Number of invalids = 1\n",
      "gen = 36 , Best fitness = (np.float64(1.0),) , Number of invalids = 2\n",
      "gen = 37 , Best fitness = (np.float64(1.0),) , Number of invalids = 3\n",
      "gen = 38 , Best fitness = (np.float64(1.0),) , Number of invalids = 0\n",
      "gen = 39 , Best fitness = (np.float64(1.0),) , Number of invalids = 2\n",
      "gen = 40 , Best fitness = (np.float64(1.0),) , Number of invalids = 1\n",
      "gen = 41 , Best fitness = (np.float64(1.0),) , Number of invalids = 1\n",
      "gen = 42 , Best fitness = (np.float64(1.0),) , Number of invalids = 2\n",
      "gen = 43 , Best fitness = (np.float64(1.0),) , Number of invalids = 2\n",
      "gen = 44 , Best fitness = (np.float64(1.0),) , Number of invalids = 2\n",
      "gen = 45 , Best fitness = (np.float64(1.0),) , Number of invalids = 2\n",
      "gen = 46 , Best fitness = (np.float64(1.0),) , Number of invalids = 0\n",
      "gen = 47 , Best fitness = (np.float64(1.0),) , Number of invalids = 1\n",
      "gen = 48 , Best fitness = (np.float64(1.0),) , Number of invalids = 2\n",
      "gen = 49 , Best fitness = (np.float64(1.0),) , Number of invalids = 1\n",
      "gen = 50 , Best fitness = (np.float64(1.0),) , Number of invalids = 1\n"
     ]
    },
    {
     "data": {
      "text/plain": [
       "<ErrorbarContainer object of 3 artists>"
      ]
     },
     "execution_count": 21,
     "metadata": {},
     "output_type": "execute_result"
    },
    {
     "data": {
      "image/png": "[encoded data removed]",
      "text/plain": [
       "<Figure size 640x480 with 1 Axes>"
      ]
     },
     "metadata": {},
     "output_type": "display_data"
    }
   ],
   "source": [
    "gePopulation = geBox.populationCreator(\n",
    "    pop_size=POPULATION_SIZE,\n",
    "    bnf_grammar=GRAMMAR,\n",
    "    min_init_depth=MIN_INIT_TREE_DEPTH,\n",
    "    max_init_depth=MAX_INIT_TREE_DEPTH,\n",
    "    codon_size=CODON_SIZE,\n",
    "    codon_consumption=CODON_CONSUMPTION,\n",
    "    genome_representation=GENOME_REPRESENTATION,\n",
    ")\n",
    "\n",
    "gePopulation, logbook = ge_eaSimpleWithElitism(\n",
    "    gePopulation,\n",
    "    toolbox=geBox,\n",
    "    cxpb=P_CROSSOVER,\n",
    "    mutpb=P_MUTATION,\n",
    "    ngen=MAX_GENERATIONS,\n",
    "    elite_size=ELITE_SIZE,\n",
    "    bnf_grammar=GRAMMAR,\n",
    "    codon_size=CODON_SIZE,\n",
    "    max_tree_depth=MAX_TREE_DEPTH,\n",
    "    max_genome_length=MAX_GENOME_LENGTH,\n",
    "    points_train=[X_train, Y_train],\n",
    "    codon_consumption=CODON_CONSUMPTION,\n",
    "    report_items=REPORT_ITEMS,\n",
    "    genome_representation=GENOME_REPRESENTATION,\n",
    "    stats=stats,\n",
    "    halloffame=geHof,\n",
    "    verbose=False,\n",
    ")\n",
    "\n",
    "maxFitness, meanFitness, stdFitness, minFitness = logbook.select(\n",
    "    \"max\", \"avg\", \"std\", \"min\"\n",
    ")\n",
    "\n",
    "plt.figure()\n",
    "plt.plot(gen, minFitness, label=\"Best Fitness\", color=\"red\")\n",
    "plt.errorbar(gen, meanFitness, yerr= stdFitness, label=\"Mean Fitness\", color=\"blue\")\n"
   ]
  },
  {
   "cell_type": "markdown",
   "metadata": {},
   "source": [
    "### Text\n",
    "\n",
    "In both setups, GE shows to be a better algorithm than GP in solving the parity 4 bits problem.\n",
    "The best fitness is lower and the mean fitness is higher in GE than in GP. \n",
    "This implies that GE can not only find better solutions but also explore the search broarder space than GP."
   ]
  }
 ],
 "metadata": {
  "kernelspec": {
   "display_name": "base",
   "language": "python",
   "name": "python3"
  },
  "language_info": {
   "codemirror_mode": {
    "name": "ipython",
    "version": 3
   },
   "file_extension": ".py",
   "mimetype": "text/x-python",
   "name": "python",
   "nbconvert_exporter": "python",
   "pygments_lexer": "ipython3",
   "version": "3.9.19"
  }
 },
 "nbformat": 4,
 "nbformat_minor": 2
}
