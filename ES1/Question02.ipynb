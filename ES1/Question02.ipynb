{
 "cells": [
  {
   "cell_type": "markdown",
   "metadata": {},
   "source": [
    "# Redo Question 1 using tournament selection and answer the same question but for an individual size of 100\n",
    "\n",
    "1. The smallest size of population to find a perfect solution is 10 with 392 generations\n",
    "1. Total number of individuals (the population size multiplied by the number of generations) is in range of 3000-5000. This is based on the result table at the end of the notebook. Increasing population size after 150 does not give noticable reduce in generations required so those are not included in the above answer"
   ]
  },
  {
   "cell_type": "markdown",
   "metadata": {},
   "source": [
    "   # GA applied to OneMax"
   ]
  },
  {
   "cell_type": "code",
   "execution_count": 1,
   "metadata": {
    "execution": {
     "iopub.execute_input": "2024-09-27T22:07:40.832947Z",
     "iopub.status.busy": "2024-09-27T22:07:40.832870Z",
     "iopub.status.idle": "2024-09-27T22:07:42.535812Z",
     "shell.execute_reply": "2024-09-27T22:07:42.535385Z"
    }
   },
   "outputs": [
    {
     "name": "stdout",
     "output_type": "stream",
     "text": [
      "Requirement already satisfied: deap in /home/tu/micromamba/envs/python11/lib/python3.11/site-packages (1.4.1)\r\n",
      "Requirement already satisfied: numpy in /home/tu/micromamba/envs/python11/lib/python3.11/site-packages (from deap) (1.26.4)\r\n"
     ]
    },
    {
     "name": "stdout",
     "output_type": "stream",
     "text": [
      "Note: you may need to restart the kernel to use updated packages.\n"
     ]
    },
    {
     "name": "stdout",
     "output_type": "stream",
     "text": [
      "Requirement already satisfied: numpy in /home/tu/micromamba/envs/python11/lib/python3.11/site-packages (1.26.4)\r\n"
     ]
    },
    {
     "name": "stdout",
     "output_type": "stream",
     "text": [
      "Note: you may need to restart the kernel to use updated packages.\n"
     ]
    }
   ],
   "source": [
    "%pip install deap\n",
    "%pip install numpy"
   ]
  },
  {
   "cell_type": "markdown",
   "metadata": {},
   "source": [
    "Import the DEAP tools and useful libraries (random and matplotlib)."
   ]
  },
  {
   "cell_type": "code",
   "execution_count": 2,
   "metadata": {
    "execution": {
     "iopub.execute_input": "2024-09-27T22:07:42.537304Z",
     "iopub.status.busy": "2024-09-27T22:07:42.537199Z",
     "iopub.status.idle": "2024-09-27T22:07:42.739716Z",
     "shell.execute_reply": "2024-09-27T22:07:42.739337Z"
    }
   },
   "outputs": [],
   "source": [
    "from deap import base\n",
    "from deap import creator\n",
    "from deap import tools\n",
    "\n",
    "import random\n",
    "\n",
    "import matplotlib.pyplot as plt"
   ]
  },
  {
   "cell_type": "markdown",
   "metadata": {},
   "source": [
    "Set our Genetic Algorithm parameters"
   ]
  },
  {
   "cell_type": "code",
   "execution_count": 3,
   "metadata": {
    "execution": {
     "iopub.execute_input": "2024-09-27T22:07:42.740898Z",
     "iopub.status.busy": "2024-09-27T22:07:42.740809Z",
     "iopub.status.idle": "2024-09-27T22:07:42.742288Z",
     "shell.execute_reply": "2024-09-27T22:07:42.742128Z"
    }
   },
   "outputs": [],
   "source": [
    "MAX_GENERATIONS = 10000"
   ]
  },
  {
   "cell_type": "markdown",
   "metadata": {},
   "source": [
    "Set any problem-specific constants here. In this case we need to know how long the string is."
   ]
  },
  {
   "cell_type": "code",
   "execution_count": 4,
   "metadata": {
    "execution": {
     "iopub.execute_input": "2024-09-27T22:07:42.743204Z",
     "iopub.status.busy": "2024-09-27T22:07:42.743142Z",
     "iopub.status.idle": "2024-09-27T22:07:42.744474Z",
     "shell.execute_reply": "2024-09-27T22:07:42.744336Z"
    }
   },
   "outputs": [],
   "source": [
    "ONE_MAX_LENGTH = 100  # length of bit string to be optimized"
   ]
  },
  {
   "cell_type": "markdown",
   "metadata": {},
   "source": [
    "Set the random seed. This is important so that we can reproduce runs later on."
   ]
  },
  {
   "cell_type": "code",
   "execution_count": 5,
   "metadata": {
    "execution": {
     "iopub.execute_input": "2024-09-27T22:07:42.745344Z",
     "iopub.status.busy": "2024-09-27T22:07:42.745280Z",
     "iopub.status.idle": "2024-09-27T22:07:42.746519Z",
     "shell.execute_reply": "2024-09-27T22:07:42.746378Z"
    }
   },
   "outputs": [],
   "source": [
    "RANDOM_SEED = 42\n",
    "random.seed(RANDOM_SEED)"
   ]
  },
  {
   "cell_type": "markdown",
   "metadata": {},
   "source": [
    "Create our toolbox. Note that we can pull in a bunch of predefined operators to tailor our Evolutionary Algorithm, which, of course, in this case is a GA. Notice that it is possible to create our **own** operators and functions to use, which is what we do with our **oneMaxFitness** function below."
   ]
  },
  {
   "cell_type": "code",
   "execution_count": 6,
   "metadata": {
    "execution": {
     "iopub.execute_input": "2024-09-27T22:07:42.747383Z",
     "iopub.status.busy": "2024-09-27T22:07:42.747321Z",
     "iopub.status.idle": "2024-09-27T22:07:42.749451Z",
     "shell.execute_reply": "2024-09-27T22:07:42.749300Z"
    }
   },
   "outputs": [],
   "source": [
    "toolbox = base.Toolbox()\n",
    "\n",
    "# create an operator that randomly returns 0 or 1:\n",
    "toolbox.register(\"zeroOrOne\", random.randint, 0, 1)\n",
    "\n",
    "# define a single objective, maximizing fitness strategy:\n",
    "creator.create(\"FitnessMax\", base.Fitness, weights=(1.0,))\n",
    "\n",
    "# create the Individual class based on list:\n",
    "creator.create(\"Individual\", list, fitness=creator.FitnessMax)\n",
    "#creator.create(\"Individual\", array.array, typecode='b', fitness=creator.FitnessMax)\n",
    "\n",
    "# create the individual operator to fill up an Individual instance:\n",
    "toolbox.register(\"individualCreator\", tools.initRepeat, creator.Individual, toolbox.zeroOrOne, ONE_MAX_LENGTH)\n",
    "\n",
    "# create the population operator to generate a list of individuals:\n",
    "toolbox.register(\"populationCreator\", tools.initRepeat, list, toolbox.individualCreator)\n",
    "\n",
    "\n",
    "# fitness calculation:\n",
    "# compute the number of '1's in the individual\n",
    "def oneMaxFitness(individual):\n",
    "    return sum(individual),  # return a tuple\n",
    "\n",
    "\n",
    "toolbox.register(\"evaluate\", oneMaxFitness)\n",
    "\n",
    "# genetic operators:\n",
    "\n",
    "# Tournament selection with tournament size of 3:\n",
    "toolbox.register(\"select\", tools.selTournament, tournsize=3)\n",
    "\n",
    "# Single-point crossover:\n",
    "toolbox.register(\"mate\", tools.cxOnePoint)\n",
    "\n",
    "# Flip-bit mutation:\n",
    "# indpb: Independent probability for each attribute to be flipped\n",
    "toolbox.register(\"mutate\", tools.mutFlipBit, indpb=1.0/ONE_MAX_LENGTH)\n",
    "\n"
   ]
  },
  {
   "cell_type": "markdown",
   "metadata": {},
   "source": [
    "Here is the main GA loop. We will iterate through it up to the MAX_GENERATIONS parameter and then print out our best individual."
   ]
  },
  {
   "cell_type": "code",
   "execution_count": 7,
   "metadata": {
    "execution": {
     "iopub.execute_input": "2024-09-27T22:07:42.750310Z",
     "iopub.status.busy": "2024-09-27T22:07:42.750249Z",
     "iopub.status.idle": "2024-09-27T23:48:41.132721Z",
     "shell.execute_reply": "2024-09-27T23:48:41.132196Z"
    }
   },
   "outputs": [
    {
     "name": "stdout",
     "output_type": "stream",
     "text": [
      "3920 Population size: 10, Min generations: 392, Min mutation rate: 0.18, Min crossover rate: 0.7000000000000001\n"
     ]
    },
    {
     "name": "stdout",
     "output_type": "stream",
     "text": [
      "3900 Population size: 30, Min generations: 130, Min mutation rate: 0.18, Min crossover rate: 0.6000000000000001\n"
     ]
    },
    {
     "name": "stdout",
     "output_type": "stream",
     "text": [
      "3150 Population size: 50, Min generations: 63, Min mutation rate: 0.14, Min crossover rate: 0.8\n"
     ]
    },
    {
     "name": "stdout",
     "output_type": "stream",
     "text": [
      "3920 Population size: 70, Min generations: 56, Min mutation rate: 0.14, Min crossover rate: 0.8\n"
     ]
    },
    {
     "name": "stdout",
     "output_type": "stream",
     "text": [
      "4770 Population size: 90, Min generations: 53, Min mutation rate: 0.16, Min crossover rate: 0.8\n"
     ]
    },
    {
     "name": "stdout",
     "output_type": "stream",
     "text": [
      "5170 Population size: 110, Min generations: 47, Min mutation rate: 0.16, Min crossover rate: 0.7000000000000001\n"
     ]
    },
    {
     "name": "stdout",
     "output_type": "stream",
     "text": [
      "5330 Population size: 130, Min generations: 41, Min mutation rate: 0.14, Min crossover rate: 0.8\n"
     ]
    },
    {
     "name": "stdout",
     "output_type": "stream",
     "text": [
      "4800 Population size: 150, Min generations: 32, Min mutation rate: 0.16, Min crossover rate: 0.9\n"
     ]
    },
    {
     "name": "stdout",
     "output_type": "stream",
     "text": [
      "5780 Population size: 170, Min generations: 34, Min mutation rate: 0.16, Min crossover rate: 0.8\n"
     ]
    },
    {
     "name": "stdout",
     "output_type": "stream",
     "text": [
      "6840 Population size: 190, Min generations: 36, Min mutation rate: 0.12, Min crossover rate: 0.7000000000000001\n"
     ]
    },
    {
     "name": "stdout",
     "output_type": "stream",
     "text": [
      "6930 Population size: 210, Min generations: 33, Min mutation rate: 0.04, Min crossover rate: 0.9\n"
     ]
    },
    {
     "name": "stdout",
     "output_type": "stream",
     "text": [
      "7130 Population size: 230, Min generations: 31, Min mutation rate: 0.12, Min crossover rate: 0.9\n"
     ]
    },
    {
     "name": "stdout",
     "output_type": "stream",
     "text": [
      "7750 Population size: 250, Min generations: 31, Min mutation rate: 0.1, Min crossover rate: 0.9\n"
     ]
    },
    {
     "name": "stdout",
     "output_type": "stream",
     "text": [
      "7830 Population size: 270, Min generations: 29, Min mutation rate: 0.08, Min crossover rate: 0.9\n"
     ]
    },
    {
     "name": "stdout",
     "output_type": "stream",
     "text": [
      "8410 Population size: 290, Min generations: 29, Min mutation rate: 0.12, Min crossover rate: 0.9\n"
     ]
    },
    {
     "name": "stdout",
     "output_type": "stream",
     "text": [
      "7750 Population size: 310, Min generations: 25, Min mutation rate: 0.02, Min crossover rate: 0.9\n"
     ]
    },
    {
     "name": "stdout",
     "output_type": "stream",
     "text": [
      "8580 Population size: 330, Min generations: 26, Min mutation rate: 0.16, Min crossover rate: 0.7000000000000001\n"
     ]
    },
    {
     "name": "stdout",
     "output_type": "stream",
     "text": [
      "8750 Population size: 350, Min generations: 25, Min mutation rate: 0.16, Min crossover rate: 0.8\n"
     ]
    },
    {
     "name": "stdout",
     "output_type": "stream",
     "text": [
      "9620 Population size: 370, Min generations: 26, Min mutation rate: 0.12, Min crossover rate: 0.9\n"
     ]
    },
    {
     "name": "stdout",
     "output_type": "stream",
     "text": [
      "9360 Population size: 390, Min generations: 24, Min mutation rate: 0.06, Min crossover rate: 0.9\n"
     ]
    }
   ],
   "source": [
    "import numpy as np\n",
    "\n",
    "# for each population_size, grid search over mutation_rate and crossover_rate\n",
    "result = {}\n",
    "for populationSize in range(10, 400, 20):\n",
    "\n",
    "    minGenerationCount = MAX_GENERATIONS + 1\n",
    "    minGenMutationRate = 0\n",
    "    minGenCrossoverRate = 0\n",
    "\n",
    "    for mutationRate in np.arange(0, 0.2, 0.02):\n",
    "        for crossoverRate in np.arange(0, 1, 0.1):\n",
    "            population = toolbox.populationCreator(n=populationSize)\n",
    "            generationCounter = 0\n",
    "\n",
    "            # calculate fitness tuple for each individual in the population:\n",
    "            fitnessValues = list(map(toolbox.evaluate, population))\n",
    "            for individual, fitnessValue in zip(population, fitnessValues):\n",
    "                individual.fitness.values = fitnessValue\n",
    "\n",
    "            # extract fitness values from all individuals in population:\n",
    "            fitnessValues = [individual.fitness.values[0] for individual in population]\n",
    "\n",
    "            # initialize statistics accumulators:\n",
    "            maxFitnessValues = []\n",
    "            meanFitnessValues = []\n",
    "\n",
    "            # main evolutionary loop:\n",
    "            # stop if max fitness value reached the known max value\n",
    "            # OR if number of generations exceeded the preset value:\n",
    "            while True:\n",
    "                if generationCounter > MAX_GENERATIONS:\n",
    "                    # print(f\"Stopping since max generations reached. Population size: {populationSize}, Mutation rate: {mutationRate}, Crossover rate: {crossoverRate}\")\n",
    "                    break\n",
    "\n",
    "                # update counter:\n",
    "                generationCounter = generationCounter + 1\n",
    "\n",
    "                # apply the selection operator, to select the next generation's individuals:\n",
    "                offspring = toolbox.select(population, len(population))\n",
    "                # clone the selected individuals:\n",
    "                offspring = list(map(toolbox.clone, offspring))\n",
    "\n",
    "                # apply the crossover operator to pairs of offspring:\n",
    "                for child1, child2 in zip(offspring[::2], offspring[1::2]):\n",
    "                    if random.random() < crossoverRate:\n",
    "                        toolbox.mate(child1, child2)\n",
    "                        del child1.fitness.values\n",
    "                        del child2.fitness.values\n",
    "\n",
    "                for mutant in offspring:\n",
    "                    if random.random() < mutationRate:\n",
    "                        toolbox.mutate(mutant)\n",
    "                        del mutant.fitness.values\n",
    "\n",
    "                # calculate fitness for the individuals with no previous calculated fitness value:\n",
    "                freshIndividuals = [ind for ind in offspring if not ind.fitness.valid]\n",
    "                freshFitnessValues = list(map(toolbox.evaluate, freshIndividuals))\n",
    "                for individual, fitnessValue in zip(freshIndividuals, freshFitnessValues):\n",
    "                    individual.fitness.values = fitnessValue\n",
    "\n",
    "                # replace the current population with the offspring:\n",
    "                population[:] = offspring\n",
    "\n",
    "                # collect fitnessValues into a list, update statistics and print:\n",
    "                fitnessValues = [ind.fitness.values[0] for ind in population]\n",
    "\n",
    "                maxFitness = max(fitnessValues)\n",
    "                meanFitness = sum(fitnessValues) / len(population)\n",
    "                maxFitnessValues.append(maxFitness)\n",
    "                meanFitnessValues.append(meanFitness)\n",
    "\n",
    "                if maxFitness >= ONE_MAX_LENGTH:\n",
    "                    if generationCounter < minGenerationCount:\n",
    "                        minGenerationCount = generationCounter\n",
    "                        minGenMutationRate = mutationRate\n",
    "                        minGenCrossoverRate = crossoverRate\n",
    "                    # print(f\"Stopping since max fitness reached. Population size: {populationSize}, Mutation rate: {mutationRate}, Crossover rate: {crossoverRate}\")\n",
    "                    break\n",
    "\n",
    "    if minGenerationCount <= MAX_GENERATIONS:\n",
    "        print(f\"{populationSize*minGenerationCount} Population size: {populationSize}, Min generations: {minGenerationCount}, Min mutation rate: {minGenMutationRate}, Min crossover rate: {minGenCrossoverRate}\")\n",
    "        result[populationSize] = (\n",
    "            populationSize * minGenerationCount,\n",
    "            minGenerationCount,\n",
    "            minGenMutationRate,\n",
    "            minGenCrossoverRate,\n",
    "        )\n",
    "    else:\n",
    "        print(f\"Population size: {populationSize}, No solution found\")"
   ]
  },
  {
   "cell_type": "code",
   "execution_count": null,
   "id": "f2a3a65d",
   "metadata": {},
   "outputs": [],
   "source": []
  },
  {
   "cell_type": "code",
   "execution_count": 8,
   "metadata": {
    "execution": {
     "iopub.execute_input": "2024-09-27T23:48:41.134068Z",
     "iopub.status.busy": "2024-09-27T23:48:41.133995Z",
     "iopub.status.idle": "2024-09-27T23:48:41.257318Z",
     "shell.execute_reply": "2024-09-27T23:48:41.256975Z"
    }
   },
   "outputs": [
    {
     "data": {
      "text/html": [
       "<div>\n",
       "<style scoped>\n",
       "    .dataframe tbody tr th:only-of-type {\n",
       "        vertical-align: middle;\n",
       "    }\n",
       "\n",
       "    .dataframe tbody tr th {\n",
       "        vertical-align: top;\n",
       "    }\n",
       "\n",
       "    .dataframe thead th {\n",
       "        text-align: right;\n",
       "    }\n",
       "</style>\n",
       "<table border=\"1\" class=\"dataframe\">\n",
       "  <thead>\n",
       "    <tr style=\"text-align: right;\">\n",
       "      <th></th>\n",
       "      <th>Population size</th>\n",
       "      <th>Population size * Generation</th>\n",
       "      <th>Generations</th>\n",
       "      <th>Mutation rate</th>\n",
       "      <th>Crossover rate</th>\n",
       "    </tr>\n",
       "  </thead>\n",
       "  <tbody>\n",
       "    <tr>\n",
       "      <th>0</th>\n",
       "      <td>10</td>\n",
       "      <td>3920</td>\n",
       "      <td>392</td>\n",
       "      <td>0.18</td>\n",
       "      <td>0.7</td>\n",
       "    </tr>\n",
       "    <tr>\n",
       "      <th>1</th>\n",
       "      <td>30</td>\n",
       "      <td>3900</td>\n",
       "      <td>130</td>\n",
       "      <td>0.18</td>\n",
       "      <td>0.6</td>\n",
       "    </tr>\n",
       "    <tr>\n",
       "      <th>2</th>\n",
       "      <td>50</td>\n",
       "      <td>3150</td>\n",
       "      <td>63</td>\n",
       "      <td>0.14</td>\n",
       "      <td>0.8</td>\n",
       "    </tr>\n",
       "    <tr>\n",
       "      <th>3</th>\n",
       "      <td>70</td>\n",
       "      <td>3920</td>\n",
       "      <td>56</td>\n",
       "      <td>0.14</td>\n",
       "      <td>0.8</td>\n",
       "    </tr>\n",
       "    <tr>\n",
       "      <th>4</th>\n",
       "      <td>90</td>\n",
       "      <td>4770</td>\n",
       "      <td>53</td>\n",
       "      <td>0.16</td>\n",
       "      <td>0.8</td>\n",
       "    </tr>\n",
       "    <tr>\n",
       "      <th>5</th>\n",
       "      <td>110</td>\n",
       "      <td>5170</td>\n",
       "      <td>47</td>\n",
       "      <td>0.16</td>\n",
       "      <td>0.7</td>\n",
       "    </tr>\n",
       "    <tr>\n",
       "      <th>6</th>\n",
       "      <td>130</td>\n",
       "      <td>5330</td>\n",
       "      <td>41</td>\n",
       "      <td>0.14</td>\n",
       "      <td>0.8</td>\n",
       "    </tr>\n",
       "    <tr>\n",
       "      <th>7</th>\n",
       "      <td>150</td>\n",
       "      <td>4800</td>\n",
       "      <td>32</td>\n",
       "      <td>0.16</td>\n",
       "      <td>0.9</td>\n",
       "    </tr>\n",
       "    <tr>\n",
       "      <th>8</th>\n",
       "      <td>170</td>\n",
       "      <td>5780</td>\n",
       "      <td>34</td>\n",
       "      <td>0.16</td>\n",
       "      <td>0.8</td>\n",
       "    </tr>\n",
       "    <tr>\n",
       "      <th>9</th>\n",
       "      <td>190</td>\n",
       "      <td>6840</td>\n",
       "      <td>36</td>\n",
       "      <td>0.12</td>\n",
       "      <td>0.7</td>\n",
       "    </tr>\n",
       "    <tr>\n",
       "      <th>10</th>\n",
       "      <td>210</td>\n",
       "      <td>6930</td>\n",
       "      <td>33</td>\n",
       "      <td>0.04</td>\n",
       "      <td>0.9</td>\n",
       "    </tr>\n",
       "    <tr>\n",
       "      <th>11</th>\n",
       "      <td>230</td>\n",
       "      <td>7130</td>\n",
       "      <td>31</td>\n",
       "      <td>0.12</td>\n",
       "      <td>0.9</td>\n",
       "    </tr>\n",
       "    <tr>\n",
       "      <th>12</th>\n",
       "      <td>250</td>\n",
       "      <td>7750</td>\n",
       "      <td>31</td>\n",
       "      <td>0.10</td>\n",
       "      <td>0.9</td>\n",
       "    </tr>\n",
       "    <tr>\n",
       "      <th>13</th>\n",
       "      <td>270</td>\n",
       "      <td>7830</td>\n",
       "      <td>29</td>\n",
       "      <td>0.08</td>\n",
       "      <td>0.9</td>\n",
       "    </tr>\n",
       "    <tr>\n",
       "      <th>14</th>\n",
       "      <td>290</td>\n",
       "      <td>8410</td>\n",
       "      <td>29</td>\n",
       "      <td>0.12</td>\n",
       "      <td>0.9</td>\n",
       "    </tr>\n",
       "    <tr>\n",
       "      <th>15</th>\n",
       "      <td>310</td>\n",
       "      <td>7750</td>\n",
       "      <td>25</td>\n",
       "      <td>0.02</td>\n",
       "      <td>0.9</td>\n",
       "    </tr>\n",
       "    <tr>\n",
       "      <th>16</th>\n",
       "      <td>330</td>\n",
       "      <td>8580</td>\n",
       "      <td>26</td>\n",
       "      <td>0.16</td>\n",
       "      <td>0.7</td>\n",
       "    </tr>\n",
       "    <tr>\n",
       "      <th>17</th>\n",
       "      <td>350</td>\n",
       "      <td>8750</td>\n",
       "      <td>25</td>\n",
       "      <td>0.16</td>\n",
       "      <td>0.8</td>\n",
       "    </tr>\n",
       "    <tr>\n",
       "      <th>18</th>\n",
       "      <td>370</td>\n",
       "      <td>9620</td>\n",
       "      <td>26</td>\n",
       "      <td>0.12</td>\n",
       "      <td>0.9</td>\n",
       "    </tr>\n",
       "    <tr>\n",
       "      <th>19</th>\n",
       "      <td>390</td>\n",
       "      <td>9360</td>\n",
       "      <td>24</td>\n",
       "      <td>0.06</td>\n",
       "      <td>0.9</td>\n",
       "    </tr>\n",
       "  </tbody>\n",
       "</table>\n",
       "</div>"
      ],
      "text/plain": [
       "    Population size  Population size * Generation  Generations  Mutation rate  \\\n",
       "0                10                          3920          392           0.18   \n",
       "1                30                          3900          130           0.18   \n",
       "2                50                          3150           63           0.14   \n",
       "3                70                          3920           56           0.14   \n",
       "4                90                          4770           53           0.16   \n",
       "5               110                          5170           47           0.16   \n",
       "6               130                          5330           41           0.14   \n",
       "7               150                          4800           32           0.16   \n",
       "8               170                          5780           34           0.16   \n",
       "9               190                          6840           36           0.12   \n",
       "10              210                          6930           33           0.04   \n",
       "11              230                          7130           31           0.12   \n",
       "12              250                          7750           31           0.10   \n",
       "13              270                          7830           29           0.08   \n",
       "14              290                          8410           29           0.12   \n",
       "15              310                          7750           25           0.02   \n",
       "16              330                          8580           26           0.16   \n",
       "17              350                          8750           25           0.16   \n",
       "18              370                          9620           26           0.12   \n",
       "19              390                          9360           24           0.06   \n",
       "\n",
       "    Crossover rate  \n",
       "0              0.7  \n",
       "1              0.6  \n",
       "2              0.8  \n",
       "3              0.8  \n",
       "4              0.8  \n",
       "5              0.7  \n",
       "6              0.8  \n",
       "7              0.9  \n",
       "8              0.8  \n",
       "9              0.7  \n",
       "10             0.9  \n",
       "11             0.9  \n",
       "12             0.9  \n",
       "13             0.9  \n",
       "14             0.9  \n",
       "15             0.9  \n",
       "16             0.7  \n",
       "17             0.8  \n",
       "18             0.9  \n",
       "19             0.9  "
      ]
     },
     "execution_count": 8,
     "metadata": {},
     "output_type": "execute_result"
    }
   ],
   "source": [
    "import pandas as pd\n",
    "\n",
    "df = pd.DataFrame(columns=[\"Population size\", \"Population size * Generation\", \"Generations\", \"Mutation rate\", \"Crossover rate\"])\n",
    "for key, value in result.items():\n",
    "    df.loc[df.__len__()] = {\n",
    "        \"Population size\": key,\n",
    "        \"Population size * Generation\": value[0],\n",
    "        \"Generations\": value[1],\n",
    "        \"Mutation rate\": value[2],\n",
    "        \"Crossover rate\": value[3],\n",
    "    }\n",
    "df"
   ]
  },
  {
   "cell_type": "markdown",
   "id": "2a4d9cfd",
   "metadata": {},
   "source": []
  }
 ],
 "metadata": {
  "kernelspec": {
   "display_name": "Python 3",
   "language": "python",
   "name": "python3"
  },
  "language_info": {
   "codemirror_mode": {
    "name": "ipython",
    "version": 3
   },
   "file_extension": ".py",
   "mimetype": "text/x-python",
   "name": "python",
   "nbconvert_exporter": "python",
   "pygments_lexer": "ipython3",
   "version": "3.11.9"
  }
 },
 "nbformat": 4,
 "nbformat_minor": 4
}
