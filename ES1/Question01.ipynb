{
 "cells": [
  {
   "cell_type": "markdown",
   "metadata": {},
   "source": [
    "# Using roulette wheel selection, what is the smallest population size and number of generations to find a perfect solution with an individual size of 50?  Give your answer regarding individuals processed: the population size multiplied by the number of generations required.\n",
    "\n",
    "1. The smallest size of population to find a perfect solution is 50 with 476 generations\n",
    "1. Total number of individuals (the population size multiplied by the number of generations) is in the range of 10000-25000. This is based on the result table at the end of the notebook"
   ]
  },
  {
   "cell_type": "markdown",
   "metadata": {},
   "source": [
    "   # GA applied to OneMax"
   ]
  },
  {
   "cell_type": "code",
   "execution_count": 1,
   "metadata": {
    "execution": {
     "iopub.execute_input": "2024-09-27T22:01:18.418842Z",
     "iopub.status.busy": "2024-09-27T22:01:18.418771Z",
     "iopub.status.idle": "2024-09-27T22:01:20.101366Z",
     "shell.execute_reply": "2024-09-27T22:01:20.101119Z"
    }
   },
   "outputs": [
    {
     "name": "stdout",
     "output_type": "stream",
     "text": [
      "Requirement already satisfied: deap in /home/tu/micromamba/envs/python11/lib/python3.11/site-packages (1.4.1)\r\n",
      "Requirement already satisfied: numpy in /home/tu/micromamba/envs/python11/lib/python3.11/site-packages (from deap) (1.26.4)\r\n"
     ]
    },
    {
     "name": "stdout",
     "output_type": "stream",
     "text": [
      "Note: you may need to restart the kernel to use updated packages.\n"
     ]
    },
    {
     "name": "stdout",
     "output_type": "stream",
     "text": [
      "Requirement already satisfied: numpy in /home/tu/micromamba/envs/python11/lib/python3.11/site-packages (1.26.4)\r\n"
     ]
    },
    {
     "name": "stdout",
     "output_type": "stream",
     "text": [
      "Note: you may need to restart the kernel to use updated packages.\n"
     ]
    }
   ],
   "source": [
    "%pip install deap\n",
    "%pip install numpy"
   ]
  },
  {
   "cell_type": "markdown",
   "metadata": {},
   "source": [
    "Import the DEAP tools and useful libraries (random and matplotlib)."
   ]
  },
  {
   "cell_type": "code",
   "execution_count": 2,
   "metadata": {
    "execution": {
     "iopub.execute_input": "2024-09-27T22:01:20.102407Z",
     "iopub.status.busy": "2024-09-27T22:01:20.102328Z",
     "iopub.status.idle": "2024-09-27T22:01:20.293003Z",
     "shell.execute_reply": "2024-09-27T22:01:20.292741Z"
    }
   },
   "outputs": [],
   "source": [
    "from deap import base\n",
    "from deap import creator\n",
    "from deap import tools\n",
    "\n",
    "import random\n",
    "\n",
    "import matplotlib.pyplot as plt"
   ]
  },
  {
   "cell_type": "markdown",
   "metadata": {},
   "source": [
    "Set our Genetic Algorithm parameters"
   ]
  },
  {
   "cell_type": "code",
   "execution_count": 3,
   "metadata": {
    "execution": {
     "iopub.execute_input": "2024-09-27T22:01:20.294209Z",
     "iopub.status.busy": "2024-09-27T22:01:20.294119Z",
     "iopub.status.idle": "2024-09-27T22:01:20.295597Z",
     "shell.execute_reply": "2024-09-27T22:01:20.295452Z"
    }
   },
   "outputs": [],
   "source": [
    "MAX_GENERATIONS = 10000"
   ]
  },
  {
   "cell_type": "markdown",
   "metadata": {},
   "source": [
    "Set any problem-specific constants here. In this case we need to know how long the string is."
   ]
  },
  {
   "cell_type": "code",
   "execution_count": 4,
   "metadata": {
    "execution": {
     "iopub.execute_input": "2024-09-27T22:01:20.296549Z",
     "iopub.status.busy": "2024-09-27T22:01:20.296441Z",
     "iopub.status.idle": "2024-09-27T22:01:20.297624Z",
     "shell.execute_reply": "2024-09-27T22:01:20.297480Z"
    }
   },
   "outputs": [],
   "source": [
    "ONE_MAX_LENGTH = 50  # length of bit string to be optimized"
   ]
  },
  {
   "cell_type": "markdown",
   "metadata": {},
   "source": [
    "Set the random seed. This is important so that we can reproduce runs later on."
   ]
  },
  {
   "cell_type": "code",
   "execution_count": 5,
   "metadata": {
    "execution": {
     "iopub.execute_input": "2024-09-27T22:01:20.298513Z",
     "iopub.status.busy": "2024-09-27T22:01:20.298411Z",
     "iopub.status.idle": "2024-09-27T22:01:20.299611Z",
     "shell.execute_reply": "2024-09-27T22:01:20.299467Z"
    }
   },
   "outputs": [],
   "source": [
    "RANDOM_SEED = 42\n",
    "random.seed(RANDOM_SEED)"
   ]
  },
  {
   "cell_type": "markdown",
   "metadata": {},
   "source": [
    "Create our toolbox. Note that we can pull in a bunch of predefined operators to tailor our Evolutionary Algorithm, which, of course, in this case is a GA. Notice that it is possible to create our **own** operators and functions to use, which is what we do with our **oneMaxFitness** function below."
   ]
  },
  {
   "cell_type": "code",
   "execution_count": 6,
   "metadata": {
    "execution": {
     "iopub.execute_input": "2024-09-27T22:01:20.300393Z",
     "iopub.status.busy": "2024-09-27T22:01:20.300331Z",
     "iopub.status.idle": "2024-09-27T22:01:20.302424Z",
     "shell.execute_reply": "2024-09-27T22:01:20.302275Z"
    }
   },
   "outputs": [],
   "source": [
    "toolbox = base.Toolbox()\n",
    "\n",
    "# create an operator that randomly returns 0 or 1:\n",
    "toolbox.register(\"zeroOrOne\", random.randint, 0, 1)\n",
    "\n",
    "# define a single objective, maximizing fitness strategy:\n",
    "creator.create(\"FitnessMax\", base.Fitness, weights=(1.0,))\n",
    "\n",
    "# create the Individual class based on list:\n",
    "creator.create(\"Individual\", list, fitness=creator.FitnessMax)\n",
    "#creator.create(\"Individual\", array.array, typecode='b', fitness=creator.FitnessMax)\n",
    "\n",
    "# create the individual operator to fill up an Individual instance:\n",
    "toolbox.register(\"individualCreator\", tools.initRepeat, creator.Individual, toolbox.zeroOrOne, ONE_MAX_LENGTH)\n",
    "\n",
    "# create the population operator to generate a list of individuals:\n",
    "toolbox.register(\"populationCreator\", tools.initRepeat, list, toolbox.individualCreator)\n",
    "\n",
    "\n",
    "# fitness calculation:\n",
    "# compute the number of '1's in the individual\n",
    "def oneMaxFitness(individual):\n",
    "    return sum(individual),  # return a tuple\n",
    "\n",
    "\n",
    "toolbox.register(\"evaluate\", oneMaxFitness)\n",
    "\n",
    "# genetic operators:\n",
    "\n",
    "# Tournament selection with tournament size of 3:\n",
    "toolbox.register(\"select\", tools.selRoulette)\n",
    "\n",
    "# Single-point crossover:\n",
    "toolbox.register(\"mate\", tools.cxOnePoint)\n",
    "\n",
    "# Flip-bit mutation:\n",
    "# indpb: Independent probability for each attribute to be flipped\n",
    "toolbox.register(\"mutate\", tools.mutFlipBit, indpb=1.0/ONE_MAX_LENGTH)\n",
    "\n"
   ]
  },
  {
   "cell_type": "markdown",
   "metadata": {},
   "source": [
    "Here is the main GA loop. We will iterate through it up to the MAX_GENERATIONS parameter and then print out our best individual."
   ]
  },
  {
   "cell_type": "code",
   "execution_count": 7,
   "metadata": {
    "execution": {
     "iopub.execute_input": "2024-09-27T22:01:20.303232Z",
     "iopub.status.busy": "2024-09-27T22:01:20.303167Z",
     "iopub.status.idle": "2024-09-28T01:31:17.310495Z",
     "shell.execute_reply": "2024-09-28T01:31:17.310314Z"
    }
   },
   "outputs": [
    {
     "name": "stdout",
     "output_type": "stream",
     "text": [
      "Population size: 10, No solution found\n"
     ]
    },
    {
     "name": "stdout",
     "output_type": "stream",
     "text": [
      "Population size: 30, No solution found\n"
     ]
    },
    {
     "name": "stdout",
     "output_type": "stream",
     "text": [
      "23800 Population size: 50, Min generations: 476, Min mutation rate: 0.08, Min crossover rate: 0.9\n"
     ]
    },
    {
     "name": "stdout",
     "output_type": "stream",
     "text": [
      "20300 Population size: 70, Min generations: 290, Min mutation rate: 0.14, Min crossover rate: 0.7000000000000001\n"
     ]
    },
    {
     "name": "stdout",
     "output_type": "stream",
     "text": [
      "19170 Population size: 90, Min generations: 213, Min mutation rate: 0.06, Min crossover rate: 0.9\n"
     ]
    },
    {
     "name": "stdout",
     "output_type": "stream",
     "text": [
      "10780 Population size: 110, Min generations: 98, Min mutation rate: 0.14, Min crossover rate: 0.9\n"
     ]
    },
    {
     "name": "stdout",
     "output_type": "stream",
     "text": [
      "10010 Population size: 130, Min generations: 77, Min mutation rate: 0.02, Min crossover rate: 0.8\n"
     ]
    },
    {
     "name": "stdout",
     "output_type": "stream",
     "text": [
      "11700 Population size: 150, Min generations: 78, Min mutation rate: 0.06, Min crossover rate: 0.7000000000000001\n"
     ]
    },
    {
     "name": "stdout",
     "output_type": "stream",
     "text": [
      "20400 Population size: 170, Min generations: 120, Min mutation rate: 0.12, Min crossover rate: 0.9\n"
     ]
    },
    {
     "name": "stdout",
     "output_type": "stream",
     "text": [
      "13300 Population size: 190, Min generations: 70, Min mutation rate: 0.02, Min crossover rate: 0.9\n"
     ]
    },
    {
     "name": "stdout",
     "output_type": "stream",
     "text": [
      "15750 Population size: 210, Min generations: 75, Min mutation rate: 0.02, Min crossover rate: 0.9\n"
     ]
    },
    {
     "name": "stdout",
     "output_type": "stream",
     "text": [
      "16100 Population size: 230, Min generations: 70, Min mutation rate: 0.06, Min crossover rate: 0.8\n"
     ]
    },
    {
     "name": "stdout",
     "output_type": "stream",
     "text": [
      "15500 Population size: 250, Min generations: 62, Min mutation rate: 0.14, Min crossover rate: 0.7000000000000001\n"
     ]
    },
    {
     "name": "stdout",
     "output_type": "stream",
     "text": [
      "18360 Population size: 270, Min generations: 68, Min mutation rate: 0.04, Min crossover rate: 0.8\n"
     ]
    },
    {
     "name": "stdout",
     "output_type": "stream",
     "text": [
      "21460 Population size: 290, Min generations: 74, Min mutation rate: 0.0, Min crossover rate: 0.9\n"
     ]
    },
    {
     "name": "stdout",
     "output_type": "stream",
     "text": [
      "18910 Population size: 310, Min generations: 61, Min mutation rate: 0.0, Min crossover rate: 0.9\n"
     ]
    },
    {
     "name": "stdout",
     "output_type": "stream",
     "text": [
      "24420 Population size: 330, Min generations: 74, Min mutation rate: 0.02, Min crossover rate: 0.9\n"
     ]
    },
    {
     "name": "stdout",
     "output_type": "stream",
     "text": [
      "23100 Population size: 350, Min generations: 66, Min mutation rate: 0.06, Min crossover rate: 0.7000000000000001\n"
     ]
    },
    {
     "name": "stdout",
     "output_type": "stream",
     "text": [
      "23680 Population size: 370, Min generations: 64, Min mutation rate: 0.1, Min crossover rate: 0.8\n"
     ]
    },
    {
     "name": "stdout",
     "output_type": "stream",
     "text": [
      "19890 Population size: 390, Min generations: 51, Min mutation rate: 0.1, Min crossover rate: 0.9\n"
     ]
    }
   ],
   "source": [
    "import numpy as np\n",
    "\n",
    "# for each population_size, grid search over mutation_rate and crossover_rate\n",
    "result = {}\n",
    "for populationSize in range(10, 400, 20):\n",
    "\n",
    "    minGenerationCount = MAX_GENERATIONS + 1\n",
    "    minGenMutationRate = 0\n",
    "    minGenCrossoverRate = 0\n",
    "\n",
    "    for mutationRate in np.arange(0, 0.2, 0.02):\n",
    "        for crossoverRate in np.arange(0, 1, 0.1):\n",
    "            population = toolbox.populationCreator(n=populationSize)\n",
    "            generationCounter = 0\n",
    "\n",
    "            # calculate fitness tuple for each individual in the population:\n",
    "            fitnessValues = list(map(toolbox.evaluate, population))\n",
    "            for individual, fitnessValue in zip(population, fitnessValues):\n",
    "                individual.fitness.values = fitnessValue\n",
    "\n",
    "            # extract fitness values from all individuals in population:\n",
    "            fitnessValues = [individual.fitness.values[0] for individual in population]\n",
    "\n",
    "            # initialize statistics accumulators:\n",
    "            maxFitnessValues = []\n",
    "            meanFitnessValues = []\n",
    "\n",
    "            # main evolutionary loop:\n",
    "            # stop if max fitness value reached the known max value\n",
    "            # OR if number of generations exceeded the preset value:\n",
    "            while True:\n",
    "                if generationCounter > MAX_GENERATIONS:\n",
    "                    # print(f\"Stopping since max generations reached. Population size: {populationSize}, Mutation rate: {mutationRate}, Crossover rate: {crossoverRate}\")\n",
    "                    break\n",
    "\n",
    "                # update counter:\n",
    "                generationCounter = generationCounter + 1\n",
    "\n",
    "                # apply the selection operator, to select the next generation's individuals:\n",
    "                offspring = toolbox.select(population, len(population))\n",
    "                # clone the selected individuals:\n",
    "                offspring = list(map(toolbox.clone, offspring))\n",
    "\n",
    "                # apply the crossover operator to pairs of offspring:\n",
    "                for child1, child2 in zip(offspring[::2], offspring[1::2]):\n",
    "                    if random.random() < crossoverRate:\n",
    "                        toolbox.mate(child1, child2)\n",
    "                        del child1.fitness.values\n",
    "                        del child2.fitness.values\n",
    "\n",
    "                for mutant in offspring:\n",
    "                    if random.random() < mutationRate:\n",
    "                        toolbox.mutate(mutant)\n",
    "                        del mutant.fitness.values\n",
    "\n",
    "                # calculate fitness for the individuals with no previous calculated fitness value:\n",
    "                freshIndividuals = [ind for ind in offspring if not ind.fitness.valid]\n",
    "                freshFitnessValues = list(map(toolbox.evaluate, freshIndividuals))\n",
    "                for individual, fitnessValue in zip(freshIndividuals, freshFitnessValues):\n",
    "                    individual.fitness.values = fitnessValue\n",
    "\n",
    "                # replace the current population with the offspring:\n",
    "                population[:] = offspring\n",
    "\n",
    "                # collect fitnessValues into a list, update statistics and print:\n",
    "                fitnessValues = [ind.fitness.values[0] for ind in population]\n",
    "\n",
    "                maxFitness = max(fitnessValues)\n",
    "                meanFitness = sum(fitnessValues) / len(population)\n",
    "                maxFitnessValues.append(maxFitness)\n",
    "                meanFitnessValues.append(meanFitness)\n",
    "\n",
    "                if maxFitness >= ONE_MAX_LENGTH:\n",
    "                    if generationCounter < minGenerationCount:\n",
    "                        minGenerationCount = generationCounter\n",
    "                        minGenMutationRate = mutationRate\n",
    "                        minGenCrossoverRate = crossoverRate\n",
    "                    # print(f\"Stopping since max fitness reached. Population size: {populationSize}, Mutation rate: {mutationRate}, Crossover rate: {crossoverRate}\")\n",
    "                    break\n",
    "\n",
    "    if minGenerationCount <= MAX_GENERATIONS:\n",
    "        print(f\"{populationSize*minGenerationCount} Population size: {populationSize}, Min generations: {minGenerationCount}, Min mutation rate: {minGenMutationRate}, Min crossover rate: {minGenCrossoverRate}\")\n",
    "        result[populationSize] = (\n",
    "            populationSize * minGenerationCount,\n",
    "            minGenerationCount,\n",
    "            minGenMutationRate,\n",
    "            minGenCrossoverRate,\n",
    "        )\n",
    "    else:\n",
    "        print(f\"Population size: {populationSize}, No solution found\")"
   ]
  },
  {
   "cell_type": "code",
   "execution_count": 8,
   "metadata": {
    "execution": {
     "iopub.execute_input": "2024-09-28T01:31:17.311567Z",
     "iopub.status.busy": "2024-09-28T01:31:17.311449Z",
     "iopub.status.idle": "2024-09-28T01:31:17.432235Z",
     "shell.execute_reply": "2024-09-28T01:31:17.432003Z"
    }
   },
   "outputs": [
    {
     "data": {
      "text/html": [
       "<div>\n",
       "<style scoped>\n",
       "    .dataframe tbody tr th:only-of-type {\n",
       "        vertical-align: middle;\n",
       "    }\n",
       "\n",
       "    .dataframe tbody tr th {\n",
       "        vertical-align: top;\n",
       "    }\n",
       "\n",
       "    .dataframe thead th {\n",
       "        text-align: right;\n",
       "    }\n",
       "</style>\n",
       "<table border=\"1\" class=\"dataframe\">\n",
       "  <thead>\n",
       "    <tr style=\"text-align: right;\">\n",
       "      <th></th>\n",
       "      <th>Population size</th>\n",
       "      <th>Population size * Generation</th>\n",
       "      <th>Generations</th>\n",
       "      <th>Mutation rate</th>\n",
       "      <th>Crossover rate</th>\n",
       "    </tr>\n",
       "  </thead>\n",
       "  <tbody>\n",
       "    <tr>\n",
       "      <th>0</th>\n",
       "      <td>50</td>\n",
       "      <td>23800</td>\n",
       "      <td>476</td>\n",
       "      <td>0.08</td>\n",
       "      <td>0.9</td>\n",
       "    </tr>\n",
       "    <tr>\n",
       "      <th>1</th>\n",
       "      <td>70</td>\n",
       "      <td>20300</td>\n",
       "      <td>290</td>\n",
       "      <td>0.14</td>\n",
       "      <td>0.7</td>\n",
       "    </tr>\n",
       "    <tr>\n",
       "      <th>2</th>\n",
       "      <td>90</td>\n",
       "      <td>19170</td>\n",
       "      <td>213</td>\n",
       "      <td>0.06</td>\n",
       "      <td>0.9</td>\n",
       "    </tr>\n",
       "    <tr>\n",
       "      <th>3</th>\n",
       "      <td>110</td>\n",
       "      <td>10780</td>\n",
       "      <td>98</td>\n",
       "      <td>0.14</td>\n",
       "      <td>0.9</td>\n",
       "    </tr>\n",
       "    <tr>\n",
       "      <th>4</th>\n",
       "      <td>130</td>\n",
       "      <td>10010</td>\n",
       "      <td>77</td>\n",
       "      <td>0.02</td>\n",
       "      <td>0.8</td>\n",
       "    </tr>\n",
       "    <tr>\n",
       "      <th>5</th>\n",
       "      <td>150</td>\n",
       "      <td>11700</td>\n",
       "      <td>78</td>\n",
       "      <td>0.06</td>\n",
       "      <td>0.7</td>\n",
       "    </tr>\n",
       "    <tr>\n",
       "      <th>6</th>\n",
       "      <td>170</td>\n",
       "      <td>20400</td>\n",
       "      <td>120</td>\n",
       "      <td>0.12</td>\n",
       "      <td>0.9</td>\n",
       "    </tr>\n",
       "    <tr>\n",
       "      <th>7</th>\n",
       "      <td>190</td>\n",
       "      <td>13300</td>\n",
       "      <td>70</td>\n",
       "      <td>0.02</td>\n",
       "      <td>0.9</td>\n",
       "    </tr>\n",
       "    <tr>\n",
       "      <th>8</th>\n",
       "      <td>210</td>\n",
       "      <td>15750</td>\n",
       "      <td>75</td>\n",
       "      <td>0.02</td>\n",
       "      <td>0.9</td>\n",
       "    </tr>\n",
       "    <tr>\n",
       "      <th>9</th>\n",
       "      <td>230</td>\n",
       "      <td>16100</td>\n",
       "      <td>70</td>\n",
       "      <td>0.06</td>\n",
       "      <td>0.8</td>\n",
       "    </tr>\n",
       "    <tr>\n",
       "      <th>10</th>\n",
       "      <td>250</td>\n",
       "      <td>15500</td>\n",
       "      <td>62</td>\n",
       "      <td>0.14</td>\n",
       "      <td>0.7</td>\n",
       "    </tr>\n",
       "    <tr>\n",
       "      <th>11</th>\n",
       "      <td>270</td>\n",
       "      <td>18360</td>\n",
       "      <td>68</td>\n",
       "      <td>0.04</td>\n",
       "      <td>0.8</td>\n",
       "    </tr>\n",
       "    <tr>\n",
       "      <th>12</th>\n",
       "      <td>290</td>\n",
       "      <td>21460</td>\n",
       "      <td>74</td>\n",
       "      <td>0.00</td>\n",
       "      <td>0.9</td>\n",
       "    </tr>\n",
       "    <tr>\n",
       "      <th>13</th>\n",
       "      <td>310</td>\n",
       "      <td>18910</td>\n",
       "      <td>61</td>\n",
       "      <td>0.00</td>\n",
       "      <td>0.9</td>\n",
       "    </tr>\n",
       "    <tr>\n",
       "      <th>14</th>\n",
       "      <td>330</td>\n",
       "      <td>24420</td>\n",
       "      <td>74</td>\n",
       "      <td>0.02</td>\n",
       "      <td>0.9</td>\n",
       "    </tr>\n",
       "    <tr>\n",
       "      <th>15</th>\n",
       "      <td>350</td>\n",
       "      <td>23100</td>\n",
       "      <td>66</td>\n",
       "      <td>0.06</td>\n",
       "      <td>0.7</td>\n",
       "    </tr>\n",
       "    <tr>\n",
       "      <th>16</th>\n",
       "      <td>370</td>\n",
       "      <td>23680</td>\n",
       "      <td>64</td>\n",
       "      <td>0.10</td>\n",
       "      <td>0.8</td>\n",
       "    </tr>\n",
       "    <tr>\n",
       "      <th>17</th>\n",
       "      <td>390</td>\n",
       "      <td>19890</td>\n",
       "      <td>51</td>\n",
       "      <td>0.10</td>\n",
       "      <td>0.9</td>\n",
       "    </tr>\n",
       "  </tbody>\n",
       "</table>\n",
       "</div>"
      ],
      "text/plain": [
       "    Population size  Population size * Generation  Generations  Mutation rate  \\\n",
       "0                50                         23800          476           0.08   \n",
       "1                70                         20300          290           0.14   \n",
       "2                90                         19170          213           0.06   \n",
       "3               110                         10780           98           0.14   \n",
       "4               130                         10010           77           0.02   \n",
       "5               150                         11700           78           0.06   \n",
       "6               170                         20400          120           0.12   \n",
       "7               190                         13300           70           0.02   \n",
       "8               210                         15750           75           0.02   \n",
       "9               230                         16100           70           0.06   \n",
       "10              250                         15500           62           0.14   \n",
       "11              270                         18360           68           0.04   \n",
       "12              290                         21460           74           0.00   \n",
       "13              310                         18910           61           0.00   \n",
       "14              330                         24420           74           0.02   \n",
       "15              350                         23100           66           0.06   \n",
       "16              370                         23680           64           0.10   \n",
       "17              390                         19890           51           0.10   \n",
       "\n",
       "    Crossover rate  \n",
       "0              0.9  \n",
       "1              0.7  \n",
       "2              0.9  \n",
       "3              0.9  \n",
       "4              0.8  \n",
       "5              0.7  \n",
       "6              0.9  \n",
       "7              0.9  \n",
       "8              0.9  \n",
       "9              0.8  \n",
       "10             0.7  \n",
       "11             0.8  \n",
       "12             0.9  \n",
       "13             0.9  \n",
       "14             0.9  \n",
       "15             0.7  \n",
       "16             0.8  \n",
       "17             0.9  "
      ]
     },
     "execution_count": 8,
     "metadata": {},
     "output_type": "execute_result"
    }
   ],
   "source": [
    "import pandas as pd\n",
    "\n",
    "df = pd.DataFrame(columns=[\"Population size\", \"Population size * Generation\", \"Generations\", \"Mutation rate\", \"Crossover rate\"])\n",
    "for key, value in result.items():\n",
    "    df.loc[df.__len__()] = {\n",
    "        \"Population size\": key,\n",
    "        \"Population size * Generation\": value[0],\n",
    "        \"Generations\": value[1],\n",
    "        \"Mutation rate\": value[2],\n",
    "        \"Crossover rate\": value[3],\n",
    "    }\n",
    "df"
   ]
  },
  {
   "cell_type": "markdown",
   "id": "3899d457",
   "metadata": {},
   "source": []
  }
 ],
 "metadata": {
  "kernelspec": {
   "display_name": "Python 3",
   "language": "python",
   "name": "python3"
  },
  "language_info": {
   "codemirror_mode": {
    "name": "ipython",
    "version": 3
   },
   "file_extension": ".py",
   "mimetype": "text/x-python",
   "name": "python",
   "nbconvert_exporter": "python",
   "pygments_lexer": "ipython3",
   "version": "3.9.19"
  }
 },
 "nbformat": 4,
 "nbformat_minor": 4
}
